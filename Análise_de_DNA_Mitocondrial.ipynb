{
  "nbformat": 4,
  "nbformat_minor": 0,
  "metadata": {
    "colab": {
      "provenance": [],
      "authorship_tag": "ABX9TyN7nKFcnSRYlblc/d1Et33d",
      "include_colab_link": true
    },
    "kernelspec": {
      "name": "python3",
      "display_name": "Python 3"
    },
    "language_info": {
      "name": "python"
    }
  },
  "cells": [
    {
      "cell_type": "markdown",
      "metadata": {
        "id": "view-in-github",
        "colab_type": "text"
      },
      "source": [
        "<a href=\"https://colab.research.google.com/github/anerocha/an-lise_dna_Mitocondrial/blob/main/An%C3%A1lise_de_DNA_Mitocondrial.ipynb\" target=\"_parent\"><img src=\"https://colab.research.google.com/assets/colab-badge.svg\" alt=\"Open In Colab\"/></a>"
      ]
    },
    {
      "cell_type": "markdown",
      "source": [
        "# **Projeto de Análise de DNA Mitocondrial com Python e BioPython**\n"
      ],
      "metadata": {
        "id": "ONNAxK1jwjDo"
      }
    },
    {
      "cell_type": "markdown",
      "source": [
        "# **INTRODUÇÃO**\n",
        "\n",
        "O DNA mitocondrial (mtDNA) é uma molécula de DNA localizada nas mitocôndrias, estruturas responsáveis pela produção de energia nas células. Diferente do DNA nuclear, o mtDNA é herdado exclusivamente da mãe e possui uma taxa de mutação maior, o que o torna muito útil para estudos de ancestralidade, genética forense e doenças mitocondriais."
      ],
      "metadata": {
        "id": "_r4D6bfcwvJ2"
      }
    },
    {
      "cell_type": "markdown",
      "source": [
        "**JUSTIFICATIVA**\n",
        "\n",
        "Como ex-estudante de biologia e apaixonada por compreender o corpo humano, da observação de tecidos em biópsias até procedimentos de necropsia, este projeto representa a união da ciência biológica com a tecnologia. A análise de dados aplicada à genética abre novos caminhos para entender a vida por meio dos dados.\n"
      ],
      "metadata": {
        "id": "G9LhHZQSxVg2"
      }
    },
    {
      "cell_type": "markdown",
      "source": [
        "**OBJETIVO**\n",
        "\n",
        "Utilizar Python e BioPython para analisar uma base simulada de DNA mitocondrial, extraindo padrões de mutações, diferenças por faixa etária, sexo, população e regiões gênicas, com o apoio de visualizações gráficas e exportação para futuras análises em Power BI.\n"
      ],
      "metadata": {
        "id": "cllouWYaxtd-"
      }
    },
    {
      "cell_type": "markdown",
      "source": [
        "**BASE DE DADOS**\n",
        "\n",
        "Os dados utilizados foram gerados por um script Python, com 200 amostras fictícias de mtDNA, incluindo variáveis como população, idade, sexo, região gênica afetada e sequências genéticas.\n",
        "Dados gerados artificialmente, mas inspirados em modelos reais de estudos genéticos públicos, como os disponíveis no [NCBI - National Center for Biotechnology Information](https://www.ncbi.nlm.nih.gov/).\n",
        "\n"
      ],
      "metadata": {
        "id": "Zg5Sj0RBx9HX"
      }
    },
    {
      "cell_type": "markdown",
      "source": [
        "# **CONCEITOS BÁSICOS DE BIOLOGIA MOLECULAR**\n",
        "\n",
        "* DNA (Ácido Desoxirribonucleico): molécula que armazena a informação genética dos seres vivos. É composto por quatro bases nitrogenadas: Adenina (A), Timina (T), Citosina (C) e Guanina (G).\n",
        "\n",
        "* RNA (Ácido Ribonucleico): molécula produzida a partir do DNA durante o processo de transcrição. No RNA, a Timina (T) é substituída por Uracila (U).\n",
        "* Transcrição: processo pelo qual a informação contida no DNA é copiada para o RNA mensageiro (mRNA).\n",
        "\n",
        "* Tradução: processo em que o RNA mensageiro é lido pelos ribossomos e convertido em uma cadeia de aminoácidos (proteína).\n",
        "* mtDNA (DNA Mitocondrial): DNA localizado nas mitocôndrias. É herdado exclusivamente da mãe e utilizado em estudos de linhagem, ancestralidade e mutações genéticas."
      ],
      "metadata": {
        "id": "wiI76FgTyKz2"
      }
    },
    {
      "cell_type": "markdown",
      "source": [
        "# **DICIONÁRIO DE COLUNAS**\n",
        "\n",
        "* id_amostra: identificador único da amostra\n",
        "* populacao: origem genética (Europeia, Africana, etc.)\n",
        "* pais_origem: país correspondente à população\n",
        "*  idade_individuo: idade da pessoa\n",
        "* sexo: Masculino ou Feminino\n",
        "* sequencia_mtDNA: cadeia de nucleotídeos da amostra\n",
        "* quantidade_mutacoes: número de mutações identificadas na amostra\n",
        "*  gc_content: percentual de G e C na sequência\n",
        "*  sequencia_RNA: transcrição da sequência de DNA para RNA\n",
        "*  proteina: tradução da sequência para aminoácidos\n",
        "* faixa_etaria: categorização da idade\n",
        "* tamanho_sequencia: comprimento da cadeia de mtDNA"
      ],
      "metadata": {
        "id": "eitXBvOqymq3"
      }
    },
    {
      "cell_type": "markdown",
      "source": [
        "## 1\\. Instalação das bibliotecas\n"
      ],
      "metadata": {
        "id": "hol6xHQHzZBH"
      }
    },
    {
      "cell_type": "code",
      "execution_count": null,
      "metadata": {
        "colab": {
          "base_uri": "https://localhost:8080/"
        },
        "id": "zyRsWMaykVNI",
        "outputId": "fcfe22a6-04b6-47f5-fc48-3e6a739914e3"
      },
      "outputs": [
        {
          "output_type": "stream",
          "name": "stdout",
          "text": [
            "Collecting biopython\n",
            "  Downloading biopython-1.85-cp311-cp311-manylinux_2_17_x86_64.manylinux2014_x86_64.whl.metadata (13 kB)\n",
            "Requirement already satisfied: numpy in /usr/local/lib/python3.11/dist-packages (from biopython) (2.0.2)\n",
            "Downloading biopython-1.85-cp311-cp311-manylinux_2_17_x86_64.manylinux2014_x86_64.whl (3.3 MB)\n",
            "\u001b[2K   \u001b[90m━━━━━━━━━━━━━━━━━━━━━━━━━━━━━━━━━━━━━━━━\u001b[0m \u001b[32m3.3/3.3 MB\u001b[0m \u001b[31m16.5 MB/s\u001b[0m eta \u001b[36m0:00:00\u001b[0m\n",
            "\u001b[?25hInstalling collected packages: biopython\n",
            "Successfully installed biopython-1.85\n",
            "Requirement already satisfied: seaborn in /usr/local/lib/python3.11/dist-packages (0.13.2)\n",
            "Requirement already satisfied: numpy!=1.24.0,>=1.20 in /usr/local/lib/python3.11/dist-packages (from seaborn) (2.0.2)\n",
            "Requirement already satisfied: pandas>=1.2 in /usr/local/lib/python3.11/dist-packages (from seaborn) (2.2.2)\n",
            "Requirement already satisfied: matplotlib!=3.6.1,>=3.4 in /usr/local/lib/python3.11/dist-packages (from seaborn) (3.10.0)\n",
            "Requirement already satisfied: contourpy>=1.0.1 in /usr/local/lib/python3.11/dist-packages (from matplotlib!=3.6.1,>=3.4->seaborn) (1.3.2)\n",
            "Requirement already satisfied: cycler>=0.10 in /usr/local/lib/python3.11/dist-packages (from matplotlib!=3.6.1,>=3.4->seaborn) (0.12.1)\n",
            "Requirement already satisfied: fonttools>=4.22.0 in /usr/local/lib/python3.11/dist-packages (from matplotlib!=3.6.1,>=3.4->seaborn) (4.58.1)\n",
            "Requirement already satisfied: kiwisolver>=1.3.1 in /usr/local/lib/python3.11/dist-packages (from matplotlib!=3.6.1,>=3.4->seaborn) (1.4.8)\n",
            "Requirement already satisfied: packaging>=20.0 in /usr/local/lib/python3.11/dist-packages (from matplotlib!=3.6.1,>=3.4->seaborn) (24.2)\n",
            "Requirement already satisfied: pillow>=8 in /usr/local/lib/python3.11/dist-packages (from matplotlib!=3.6.1,>=3.4->seaborn) (11.2.1)\n",
            "Requirement already satisfied: pyparsing>=2.3.1 in /usr/local/lib/python3.11/dist-packages (from matplotlib!=3.6.1,>=3.4->seaborn) (3.2.3)\n",
            "Requirement already satisfied: python-dateutil>=2.7 in /usr/local/lib/python3.11/dist-packages (from matplotlib!=3.6.1,>=3.4->seaborn) (2.9.0.post0)\n",
            "Requirement already satisfied: pytz>=2020.1 in /usr/local/lib/python3.11/dist-packages (from pandas>=1.2->seaborn) (2025.2)\n",
            "Requirement already satisfied: tzdata>=2022.7 in /usr/local/lib/python3.11/dist-packages (from pandas>=1.2->seaborn) (2025.2)\n",
            "Requirement already satisfied: six>=1.5 in /usr/local/lib/python3.11/dist-packages (from python-dateutil>=2.7->matplotlib!=3.6.1,>=3.4->seaborn) (1.17.0)\n"
          ]
        }
      ],
      "source": [
        "!pip install biopython\n",
        "!pip install seaborn\n"
      ]
    },
    {
      "cell_type": "markdown",
      "source": [
        "## 2\\. Importação de bibliotecas e leitura do CSV\n"
      ],
      "metadata": {
        "id": "ivVARlbXrGZt"
      }
    },
    {
      "cell_type": "markdown",
      "source": [
        "Nesta etapa, realizamos a importação das bibliotecas necessárias para análise, incluindo:\n",
        "* pandas: para manipulação de dados\n",
        "* seaborn e matplotlib: para geração de gráficos\n",
        "* Bio.Seq e Bio.SeqUtils: para análise biológica com a biblioteca BioPython\n",
        "* Também é feita a leitura da base de dados CSV com as amostras de DNA mitocondrial."
      ],
      "metadata": {
        "id": "4l6MYHnRzvsX"
      }
    },
    {
      "cell_type": "code",
      "source": [
        "import pandas as pd\n",
        "import seaborn as sns\n",
        "import matplotlib.pyplot as plt\n",
        "from Bio.Seq import Seq\n",
        "from Bio.SeqUtils import gc_fraction\n",
        "\n",
        "from google.colab import files\n",
        "uploaded = files.upload()\n",
        "\n",
        "df = pd.read_csv('dna_mitocondrial_simulado.csv')\n",
        "df.head()\n"
      ],
      "metadata": {
        "colab": {
          "base_uri": "https://localhost:8080/",
          "height": 262
        },
        "id": "udjp_xHqka1s",
        "outputId": "3013c5d0-8d2a-419a-b015-c9c402944a91"
      },
      "execution_count": null,
      "outputs": [
        {
          "output_type": "display_data",
          "data": {
            "text/plain": [
              "<IPython.core.display.HTML object>"
            ],
            "text/html": [
              "\n",
              "     <input type=\"file\" id=\"files-02c151d5-3a79-4841-aff2-2a2a45495d3f\" name=\"files[]\" multiple disabled\n",
              "        style=\"border:none\" />\n",
              "     <output id=\"result-02c151d5-3a79-4841-aff2-2a2a45495d3f\">\n",
              "      Upload widget is only available when the cell has been executed in the\n",
              "      current browser session. Please rerun this cell to enable.\n",
              "      </output>\n",
              "      <script>// Copyright 2017 Google LLC\n",
              "//\n",
              "// Licensed under the Apache License, Version 2.0 (the \"License\");\n",
              "// you may not use this file except in compliance with the License.\n",
              "// You may obtain a copy of the License at\n",
              "//\n",
              "//      http://www.apache.org/licenses/LICENSE-2.0\n",
              "//\n",
              "// Unless required by applicable law or agreed to in writing, software\n",
              "// distributed under the License is distributed on an \"AS IS\" BASIS,\n",
              "// WITHOUT WARRANTIES OR CONDITIONS OF ANY KIND, either express or implied.\n",
              "// See the License for the specific language governing permissions and\n",
              "// limitations under the License.\n",
              "\n",
              "/**\n",
              " * @fileoverview Helpers for google.colab Python module.\n",
              " */\n",
              "(function(scope) {\n",
              "function span(text, styleAttributes = {}) {\n",
              "  const element = document.createElement('span');\n",
              "  element.textContent = text;\n",
              "  for (const key of Object.keys(styleAttributes)) {\n",
              "    element.style[key] = styleAttributes[key];\n",
              "  }\n",
              "  return element;\n",
              "}\n",
              "\n",
              "// Max number of bytes which will be uploaded at a time.\n",
              "const MAX_PAYLOAD_SIZE = 100 * 1024;\n",
              "\n",
              "function _uploadFiles(inputId, outputId) {\n",
              "  const steps = uploadFilesStep(inputId, outputId);\n",
              "  const outputElement = document.getElementById(outputId);\n",
              "  // Cache steps on the outputElement to make it available for the next call\n",
              "  // to uploadFilesContinue from Python.\n",
              "  outputElement.steps = steps;\n",
              "\n",
              "  return _uploadFilesContinue(outputId);\n",
              "}\n",
              "\n",
              "// This is roughly an async generator (not supported in the browser yet),\n",
              "// where there are multiple asynchronous steps and the Python side is going\n",
              "// to poll for completion of each step.\n",
              "// This uses a Promise to block the python side on completion of each step,\n",
              "// then passes the result of the previous step as the input to the next step.\n",
              "function _uploadFilesContinue(outputId) {\n",
              "  const outputElement = document.getElementById(outputId);\n",
              "  const steps = outputElement.steps;\n",
              "\n",
              "  const next = steps.next(outputElement.lastPromiseValue);\n",
              "  return Promise.resolve(next.value.promise).then((value) => {\n",
              "    // Cache the last promise value to make it available to the next\n",
              "    // step of the generator.\n",
              "    outputElement.lastPromiseValue = value;\n",
              "    return next.value.response;\n",
              "  });\n",
              "}\n",
              "\n",
              "/**\n",
              " * Generator function which is called between each async step of the upload\n",
              " * process.\n",
              " * @param {string} inputId Element ID of the input file picker element.\n",
              " * @param {string} outputId Element ID of the output display.\n",
              " * @return {!Iterable<!Object>} Iterable of next steps.\n",
              " */\n",
              "function* uploadFilesStep(inputId, outputId) {\n",
              "  const inputElement = document.getElementById(inputId);\n",
              "  inputElement.disabled = false;\n",
              "\n",
              "  const outputElement = document.getElementById(outputId);\n",
              "  outputElement.innerHTML = '';\n",
              "\n",
              "  const pickedPromise = new Promise((resolve) => {\n",
              "    inputElement.addEventListener('change', (e) => {\n",
              "      resolve(e.target.files);\n",
              "    });\n",
              "  });\n",
              "\n",
              "  const cancel = document.createElement('button');\n",
              "  inputElement.parentElement.appendChild(cancel);\n",
              "  cancel.textContent = 'Cancel upload';\n",
              "  const cancelPromise = new Promise((resolve) => {\n",
              "    cancel.onclick = () => {\n",
              "      resolve(null);\n",
              "    };\n",
              "  });\n",
              "\n",
              "  // Wait for the user to pick the files.\n",
              "  const files = yield {\n",
              "    promise: Promise.race([pickedPromise, cancelPromise]),\n",
              "    response: {\n",
              "      action: 'starting',\n",
              "    }\n",
              "  };\n",
              "\n",
              "  cancel.remove();\n",
              "\n",
              "  // Disable the input element since further picks are not allowed.\n",
              "  inputElement.disabled = true;\n",
              "\n",
              "  if (!files) {\n",
              "    return {\n",
              "      response: {\n",
              "        action: 'complete',\n",
              "      }\n",
              "    };\n",
              "  }\n",
              "\n",
              "  for (const file of files) {\n",
              "    const li = document.createElement('li');\n",
              "    li.append(span(file.name, {fontWeight: 'bold'}));\n",
              "    li.append(span(\n",
              "        `(${file.type || 'n/a'}) - ${file.size} bytes, ` +\n",
              "        `last modified: ${\n",
              "            file.lastModifiedDate ? file.lastModifiedDate.toLocaleDateString() :\n",
              "                                    'n/a'} - `));\n",
              "    const percent = span('0% done');\n",
              "    li.appendChild(percent);\n",
              "\n",
              "    outputElement.appendChild(li);\n",
              "\n",
              "    const fileDataPromise = new Promise((resolve) => {\n",
              "      const reader = new FileReader();\n",
              "      reader.onload = (e) => {\n",
              "        resolve(e.target.result);\n",
              "      };\n",
              "      reader.readAsArrayBuffer(file);\n",
              "    });\n",
              "    // Wait for the data to be ready.\n",
              "    let fileData = yield {\n",
              "      promise: fileDataPromise,\n",
              "      response: {\n",
              "        action: 'continue',\n",
              "      }\n",
              "    };\n",
              "\n",
              "    // Use a chunked sending to avoid message size limits. See b/62115660.\n",
              "    let position = 0;\n",
              "    do {\n",
              "      const length = Math.min(fileData.byteLength - position, MAX_PAYLOAD_SIZE);\n",
              "      const chunk = new Uint8Array(fileData, position, length);\n",
              "      position += length;\n",
              "\n",
              "      const base64 = btoa(String.fromCharCode.apply(null, chunk));\n",
              "      yield {\n",
              "        response: {\n",
              "          action: 'append',\n",
              "          file: file.name,\n",
              "          data: base64,\n",
              "        },\n",
              "      };\n",
              "\n",
              "      let percentDone = fileData.byteLength === 0 ?\n",
              "          100 :\n",
              "          Math.round((position / fileData.byteLength) * 100);\n",
              "      percent.textContent = `${percentDone}% done`;\n",
              "\n",
              "    } while (position < fileData.byteLength);\n",
              "  }\n",
              "\n",
              "  // All done.\n",
              "  yield {\n",
              "    response: {\n",
              "      action: 'complete',\n",
              "    }\n",
              "  };\n",
              "}\n",
              "\n",
              "scope.google = scope.google || {};\n",
              "scope.google.colab = scope.google.colab || {};\n",
              "scope.google.colab._files = {\n",
              "  _uploadFiles,\n",
              "  _uploadFilesContinue,\n",
              "};\n",
              "})(self);\n",
              "</script> "
            ]
          },
          "metadata": {}
        },
        {
          "output_type": "stream",
          "name": "stdout",
          "text": [
            "Saving dna_mitocondrial_simulado.csv to dna_mitocondrial_simulado.csv\n"
          ]
        },
        {
          "output_type": "execute_result",
          "data": {
            "text/plain": [
              "  id_amostra populacao pais_origem  idade_individuo       sexo  \\\n",
              "0       A001  Europeia    Alemanha               55  Masculino   \n",
              "1       A002  Europeia    Alemanha               54   Feminino   \n",
              "2       A003  Oceânica   Austrália               38   Feminino   \n",
              "3       A004  Europeia    Alemanha               31  Masculino   \n",
              "4       A005  Oceânica   Austrália               31   Feminino   \n",
              "\n",
              "                                     sequencia_mtDNA  quantidade_mutacoes  \\\n",
              "0  ACATCGCCCTATCGGACGAGATCCTCCAAAACAGGTAAGTATGATG...                   12   \n",
              "1  CACCACCCTTTAGCCCCTGCCCCCACCTAGCATCTACAACAGAAAA...                   10   \n",
              "2  GGAACTTCCAGGGCCGCGCAGCTCTAGCTTGCCAGGCTTGCGCCTA...                   18   \n",
              "3  TTAACCGTTGACGAGGTGAATTACTCCGGGGCTTTACAGTGCCGGC...                   11   \n",
              "4  CGCTTAGACCGCGCCCTTCAGGTGCATATGGCTCCCTTGGTACGTC...                   18   \n",
              "\n",
              "  regiao_gene_afetado  \n",
              "0                 ND2  \n",
              "1                 ND1  \n",
              "2                COX1  \n",
              "3                COX1  \n",
              "4                ATP6  "
            ],
            "text/html": [
              "\n",
              "  <div id=\"df-1e0f78bd-d7c9-4c16-a78c-2b3bccc917d4\" class=\"colab-df-container\">\n",
              "    <div>\n",
              "<style scoped>\n",
              "    .dataframe tbody tr th:only-of-type {\n",
              "        vertical-align: middle;\n",
              "    }\n",
              "\n",
              "    .dataframe tbody tr th {\n",
              "        vertical-align: top;\n",
              "    }\n",
              "\n",
              "    .dataframe thead th {\n",
              "        text-align: right;\n",
              "    }\n",
              "</style>\n",
              "<table border=\"1\" class=\"dataframe\">\n",
              "  <thead>\n",
              "    <tr style=\"text-align: right;\">\n",
              "      <th></th>\n",
              "      <th>id_amostra</th>\n",
              "      <th>populacao</th>\n",
              "      <th>pais_origem</th>\n",
              "      <th>idade_individuo</th>\n",
              "      <th>sexo</th>\n",
              "      <th>sequencia_mtDNA</th>\n",
              "      <th>quantidade_mutacoes</th>\n",
              "      <th>regiao_gene_afetado</th>\n",
              "    </tr>\n",
              "  </thead>\n",
              "  <tbody>\n",
              "    <tr>\n",
              "      <th>0</th>\n",
              "      <td>A001</td>\n",
              "      <td>Europeia</td>\n",
              "      <td>Alemanha</td>\n",
              "      <td>55</td>\n",
              "      <td>Masculino</td>\n",
              "      <td>ACATCGCCCTATCGGACGAGATCCTCCAAAACAGGTAAGTATGATG...</td>\n",
              "      <td>12</td>\n",
              "      <td>ND2</td>\n",
              "    </tr>\n",
              "    <tr>\n",
              "      <th>1</th>\n",
              "      <td>A002</td>\n",
              "      <td>Europeia</td>\n",
              "      <td>Alemanha</td>\n",
              "      <td>54</td>\n",
              "      <td>Feminino</td>\n",
              "      <td>CACCACCCTTTAGCCCCTGCCCCCACCTAGCATCTACAACAGAAAA...</td>\n",
              "      <td>10</td>\n",
              "      <td>ND1</td>\n",
              "    </tr>\n",
              "    <tr>\n",
              "      <th>2</th>\n",
              "      <td>A003</td>\n",
              "      <td>Oceânica</td>\n",
              "      <td>Austrália</td>\n",
              "      <td>38</td>\n",
              "      <td>Feminino</td>\n",
              "      <td>GGAACTTCCAGGGCCGCGCAGCTCTAGCTTGCCAGGCTTGCGCCTA...</td>\n",
              "      <td>18</td>\n",
              "      <td>COX1</td>\n",
              "    </tr>\n",
              "    <tr>\n",
              "      <th>3</th>\n",
              "      <td>A004</td>\n",
              "      <td>Europeia</td>\n",
              "      <td>Alemanha</td>\n",
              "      <td>31</td>\n",
              "      <td>Masculino</td>\n",
              "      <td>TTAACCGTTGACGAGGTGAATTACTCCGGGGCTTTACAGTGCCGGC...</td>\n",
              "      <td>11</td>\n",
              "      <td>COX1</td>\n",
              "    </tr>\n",
              "    <tr>\n",
              "      <th>4</th>\n",
              "      <td>A005</td>\n",
              "      <td>Oceânica</td>\n",
              "      <td>Austrália</td>\n",
              "      <td>31</td>\n",
              "      <td>Feminino</td>\n",
              "      <td>CGCTTAGACCGCGCCCTTCAGGTGCATATGGCTCCCTTGGTACGTC...</td>\n",
              "      <td>18</td>\n",
              "      <td>ATP6</td>\n",
              "    </tr>\n",
              "  </tbody>\n",
              "</table>\n",
              "</div>\n",
              "    <div class=\"colab-df-buttons\">\n",
              "\n",
              "  <div class=\"colab-df-container\">\n",
              "    <button class=\"colab-df-convert\" onclick=\"convertToInteractive('df-1e0f78bd-d7c9-4c16-a78c-2b3bccc917d4')\"\n",
              "            title=\"Convert this dataframe to an interactive table.\"\n",
              "            style=\"display:none;\">\n",
              "\n",
              "  <svg xmlns=\"http://www.w3.org/2000/svg\" height=\"24px\" viewBox=\"0 -960 960 960\">\n",
              "    <path d=\"M120-120v-720h720v720H120Zm60-500h600v-160H180v160Zm220 220h160v-160H400v160Zm0 220h160v-160H400v160ZM180-400h160v-160H180v160Zm440 0h160v-160H620v160ZM180-180h160v-160H180v160Zm440 0h160v-160H620v160Z\"/>\n",
              "  </svg>\n",
              "    </button>\n",
              "\n",
              "  <style>\n",
              "    .colab-df-container {\n",
              "      display:flex;\n",
              "      gap: 12px;\n",
              "    }\n",
              "\n",
              "    .colab-df-convert {\n",
              "      background-color: #E8F0FE;\n",
              "      border: none;\n",
              "      border-radius: 50%;\n",
              "      cursor: pointer;\n",
              "      display: none;\n",
              "      fill: #1967D2;\n",
              "      height: 32px;\n",
              "      padding: 0 0 0 0;\n",
              "      width: 32px;\n",
              "    }\n",
              "\n",
              "    .colab-df-convert:hover {\n",
              "      background-color: #E2EBFA;\n",
              "      box-shadow: 0px 1px 2px rgba(60, 64, 67, 0.3), 0px 1px 3px 1px rgba(60, 64, 67, 0.15);\n",
              "      fill: #174EA6;\n",
              "    }\n",
              "\n",
              "    .colab-df-buttons div {\n",
              "      margin-bottom: 4px;\n",
              "    }\n",
              "\n",
              "    [theme=dark] .colab-df-convert {\n",
              "      background-color: #3B4455;\n",
              "      fill: #D2E3FC;\n",
              "    }\n",
              "\n",
              "    [theme=dark] .colab-df-convert:hover {\n",
              "      background-color: #434B5C;\n",
              "      box-shadow: 0px 1px 3px 1px rgba(0, 0, 0, 0.15);\n",
              "      filter: drop-shadow(0px 1px 2px rgba(0, 0, 0, 0.3));\n",
              "      fill: #FFFFFF;\n",
              "    }\n",
              "  </style>\n",
              "\n",
              "    <script>\n",
              "      const buttonEl =\n",
              "        document.querySelector('#df-1e0f78bd-d7c9-4c16-a78c-2b3bccc917d4 button.colab-df-convert');\n",
              "      buttonEl.style.display =\n",
              "        google.colab.kernel.accessAllowed ? 'block' : 'none';\n",
              "\n",
              "      async function convertToInteractive(key) {\n",
              "        const element = document.querySelector('#df-1e0f78bd-d7c9-4c16-a78c-2b3bccc917d4');\n",
              "        const dataTable =\n",
              "          await google.colab.kernel.invokeFunction('convertToInteractive',\n",
              "                                                    [key], {});\n",
              "        if (!dataTable) return;\n",
              "\n",
              "        const docLinkHtml = 'Like what you see? Visit the ' +\n",
              "          '<a target=\"_blank\" href=https://colab.research.google.com/notebooks/data_table.ipynb>data table notebook</a>'\n",
              "          + ' to learn more about interactive tables.';\n",
              "        element.innerHTML = '';\n",
              "        dataTable['output_type'] = 'display_data';\n",
              "        await google.colab.output.renderOutput(dataTable, element);\n",
              "        const docLink = document.createElement('div');\n",
              "        docLink.innerHTML = docLinkHtml;\n",
              "        element.appendChild(docLink);\n",
              "      }\n",
              "    </script>\n",
              "  </div>\n",
              "\n",
              "\n",
              "    <div id=\"df-0b7320e0-81b7-40eb-8c68-e5fc19b83005\">\n",
              "      <button class=\"colab-df-quickchart\" onclick=\"quickchart('df-0b7320e0-81b7-40eb-8c68-e5fc19b83005')\"\n",
              "                title=\"Suggest charts\"\n",
              "                style=\"display:none;\">\n",
              "\n",
              "<svg xmlns=\"http://www.w3.org/2000/svg\" height=\"24px\"viewBox=\"0 0 24 24\"\n",
              "     width=\"24px\">\n",
              "    <g>\n",
              "        <path d=\"M19 3H5c-1.1 0-2 .9-2 2v14c0 1.1.9 2 2 2h14c1.1 0 2-.9 2-2V5c0-1.1-.9-2-2-2zM9 17H7v-7h2v7zm4 0h-2V7h2v10zm4 0h-2v-4h2v4z\"/>\n",
              "    </g>\n",
              "</svg>\n",
              "      </button>\n",
              "\n",
              "<style>\n",
              "  .colab-df-quickchart {\n",
              "      --bg-color: #E8F0FE;\n",
              "      --fill-color: #1967D2;\n",
              "      --hover-bg-color: #E2EBFA;\n",
              "      --hover-fill-color: #174EA6;\n",
              "      --disabled-fill-color: #AAA;\n",
              "      --disabled-bg-color: #DDD;\n",
              "  }\n",
              "\n",
              "  [theme=dark] .colab-df-quickchart {\n",
              "      --bg-color: #3B4455;\n",
              "      --fill-color: #D2E3FC;\n",
              "      --hover-bg-color: #434B5C;\n",
              "      --hover-fill-color: #FFFFFF;\n",
              "      --disabled-bg-color: #3B4455;\n",
              "      --disabled-fill-color: #666;\n",
              "  }\n",
              "\n",
              "  .colab-df-quickchart {\n",
              "    background-color: var(--bg-color);\n",
              "    border: none;\n",
              "    border-radius: 50%;\n",
              "    cursor: pointer;\n",
              "    display: none;\n",
              "    fill: var(--fill-color);\n",
              "    height: 32px;\n",
              "    padding: 0;\n",
              "    width: 32px;\n",
              "  }\n",
              "\n",
              "  .colab-df-quickchart:hover {\n",
              "    background-color: var(--hover-bg-color);\n",
              "    box-shadow: 0 1px 2px rgba(60, 64, 67, 0.3), 0 1px 3px 1px rgba(60, 64, 67, 0.15);\n",
              "    fill: var(--button-hover-fill-color);\n",
              "  }\n",
              "\n",
              "  .colab-df-quickchart-complete:disabled,\n",
              "  .colab-df-quickchart-complete:disabled:hover {\n",
              "    background-color: var(--disabled-bg-color);\n",
              "    fill: var(--disabled-fill-color);\n",
              "    box-shadow: none;\n",
              "  }\n",
              "\n",
              "  .colab-df-spinner {\n",
              "    border: 2px solid var(--fill-color);\n",
              "    border-color: transparent;\n",
              "    border-bottom-color: var(--fill-color);\n",
              "    animation:\n",
              "      spin 1s steps(1) infinite;\n",
              "  }\n",
              "\n",
              "  @keyframes spin {\n",
              "    0% {\n",
              "      border-color: transparent;\n",
              "      border-bottom-color: var(--fill-color);\n",
              "      border-left-color: var(--fill-color);\n",
              "    }\n",
              "    20% {\n",
              "      border-color: transparent;\n",
              "      border-left-color: var(--fill-color);\n",
              "      border-top-color: var(--fill-color);\n",
              "    }\n",
              "    30% {\n",
              "      border-color: transparent;\n",
              "      border-left-color: var(--fill-color);\n",
              "      border-top-color: var(--fill-color);\n",
              "      border-right-color: var(--fill-color);\n",
              "    }\n",
              "    40% {\n",
              "      border-color: transparent;\n",
              "      border-right-color: var(--fill-color);\n",
              "      border-top-color: var(--fill-color);\n",
              "    }\n",
              "    60% {\n",
              "      border-color: transparent;\n",
              "      border-right-color: var(--fill-color);\n",
              "    }\n",
              "    80% {\n",
              "      border-color: transparent;\n",
              "      border-right-color: var(--fill-color);\n",
              "      border-bottom-color: var(--fill-color);\n",
              "    }\n",
              "    90% {\n",
              "      border-color: transparent;\n",
              "      border-bottom-color: var(--fill-color);\n",
              "    }\n",
              "  }\n",
              "</style>\n",
              "\n",
              "      <script>\n",
              "        async function quickchart(key) {\n",
              "          const quickchartButtonEl =\n",
              "            document.querySelector('#' + key + ' button');\n",
              "          quickchartButtonEl.disabled = true;  // To prevent multiple clicks.\n",
              "          quickchartButtonEl.classList.add('colab-df-spinner');\n",
              "          try {\n",
              "            const charts = await google.colab.kernel.invokeFunction(\n",
              "                'suggestCharts', [key], {});\n",
              "          } catch (error) {\n",
              "            console.error('Error during call to suggestCharts:', error);\n",
              "          }\n",
              "          quickchartButtonEl.classList.remove('colab-df-spinner');\n",
              "          quickchartButtonEl.classList.add('colab-df-quickchart-complete');\n",
              "        }\n",
              "        (() => {\n",
              "          let quickchartButtonEl =\n",
              "            document.querySelector('#df-0b7320e0-81b7-40eb-8c68-e5fc19b83005 button');\n",
              "          quickchartButtonEl.style.display =\n",
              "            google.colab.kernel.accessAllowed ? 'block' : 'none';\n",
              "        })();\n",
              "      </script>\n",
              "    </div>\n",
              "\n",
              "    </div>\n",
              "  </div>\n"
            ],
            "application/vnd.google.colaboratory.intrinsic+json": {
              "type": "dataframe",
              "variable_name": "df",
              "summary": "{\n  \"name\": \"df\",\n  \"rows\": 200,\n  \"fields\": [\n    {\n      \"column\": \"id_amostra\",\n      \"properties\": {\n        \"dtype\": \"string\",\n        \"num_unique_values\": 200,\n        \"samples\": [\n          \"A096\",\n          \"A016\",\n          \"A031\"\n        ],\n        \"semantic_type\": \"\",\n        \"description\": \"\"\n      }\n    },\n    {\n      \"column\": \"populacao\",\n      \"properties\": {\n        \"dtype\": \"category\",\n        \"num_unique_values\": 5,\n        \"samples\": [\n          \"Oce\\u00e2nica\",\n          \"Amer\\u00edndia\",\n          \"Africana\"\n        ],\n        \"semantic_type\": \"\",\n        \"description\": \"\"\n      }\n    },\n    {\n      \"column\": \"pais_origem\",\n      \"properties\": {\n        \"dtype\": \"category\",\n        \"num_unique_values\": 5,\n        \"samples\": [\n          \"Austr\\u00e1lia\",\n          \"Brasil\",\n          \"Nig\\u00e9ria\"\n        ],\n        \"semantic_type\": \"\",\n        \"description\": \"\"\n      }\n    },\n    {\n      \"column\": \"idade_individuo\",\n      \"properties\": {\n        \"dtype\": \"number\",\n        \"std\": 17,\n        \"min\": 18,\n        \"max\": 80,\n        \"num_unique_values\": 59,\n        \"samples\": [\n          55,\n          27,\n          63\n        ],\n        \"semantic_type\": \"\",\n        \"description\": \"\"\n      }\n    },\n    {\n      \"column\": \"sexo\",\n      \"properties\": {\n        \"dtype\": \"category\",\n        \"num_unique_values\": 2,\n        \"samples\": [\n          \"Feminino\",\n          \"Masculino\"\n        ],\n        \"semantic_type\": \"\",\n        \"description\": \"\"\n      }\n    },\n    {\n      \"column\": \"sequencia_mtDNA\",\n      \"properties\": {\n        \"dtype\": \"string\",\n        \"num_unique_values\": 200,\n        \"samples\": [\n          \"CCTTTGCCAAGTCCGTGTAGTAGCAACTGTGAGCGGCCACGATCGATGACTCGGCCGGGGCGAAGGCCACGAGCGAAGGGAGGATGAGTAAGGAGCGGCCACAGTA\",\n          \"AAGTATGAGGTGCGGAGCCTCGATCGCACTACGTAATGTCGAGGACTTTGCACGAGAACCAGACAGTTTCTCTTTCGCGTCCATCGCGACCAACTAGTTAGGGACAAATTCCAGAGCG\"\n        ],\n        \"semantic_type\": \"\",\n        \"description\": \"\"\n      }\n    },\n    {\n      \"column\": \"quantidade_mutacoes\",\n      \"properties\": {\n        \"dtype\": \"number\",\n        \"std\": 6,\n        \"min\": 0,\n        \"max\": 20,\n        \"num_unique_values\": 21,\n        \"samples\": [\n          12,\n          6\n        ],\n        \"semantic_type\": \"\",\n        \"description\": \"\"\n      }\n    },\n    {\n      \"column\": \"regiao_gene_afetado\",\n      \"properties\": {\n        \"dtype\": \"category\",\n        \"num_unique_values\": 5,\n        \"samples\": [\n          \"ND1\",\n          \"CYB\"\n        ],\n        \"semantic_type\": \"\",\n        \"description\": \"\"\n      }\n    }\n  ]\n}"
            }
          },
          "metadata": {},
          "execution_count": 2
        }
      ]
    },
    {
      "cell_type": "markdown",
      "source": [
        "## 3\\. Exploração inicial dos dados"
      ],
      "metadata": {
        "id": "57EXFMByrJIF"
      }
    },
    {
      "cell_type": "code",
      "source": [
        "print(\"Informações gerais:\")\n",
        "print(df.info())\n",
        "\n",
        "print(\"\\nDescrição estatística:\")\n",
        "print(df.describe())\n",
        "\n",
        "print(\"\\nPrimeiras linhas:\")\n",
        "print(df.head())\n"
      ],
      "metadata": {
        "colab": {
          "base_uri": "https://localhost:8080/"
        },
        "id": "U1RpGn_RkoTj",
        "outputId": "2872b2db-150c-40ad-fcc4-aa36d175b840"
      },
      "execution_count": null,
      "outputs": [
        {
          "output_type": "stream",
          "name": "stdout",
          "text": [
            "Informações gerais:\n",
            "<class 'pandas.core.frame.DataFrame'>\n",
            "RangeIndex: 200 entries, 0 to 199\n",
            "Data columns (total 8 columns):\n",
            " #   Column               Non-Null Count  Dtype \n",
            "---  ------               --------------  ----- \n",
            " 0   id_amostra           200 non-null    object\n",
            " 1   populacao            200 non-null    object\n",
            " 2   pais_origem          200 non-null    object\n",
            " 3   idade_individuo      200 non-null    int64 \n",
            " 4   sexo                 200 non-null    object\n",
            " 5   sequencia_mtDNA      200 non-null    object\n",
            " 6   quantidade_mutacoes  200 non-null    int64 \n",
            " 7   regiao_gene_afetado  200 non-null    object\n",
            "dtypes: int64(2), object(6)\n",
            "memory usage: 12.6+ KB\n",
            "None\n",
            "\n",
            "Descrição estatística:\n",
            "       idade_individuo  quantidade_mutacoes\n",
            "count       200.000000           200.000000\n",
            "mean         49.965000            10.240000\n",
            "std          17.947264             6.149919\n",
            "min          18.000000             0.000000\n",
            "25%          34.750000             5.000000\n",
            "50%          50.500000            10.000000\n",
            "75%          64.250000            16.000000\n",
            "max          80.000000            20.000000\n",
            "\n",
            "Primeiras linhas:\n",
            "  id_amostra populacao pais_origem  idade_individuo       sexo  \\\n",
            "0       A001  Europeia    Alemanha               55  Masculino   \n",
            "1       A002  Europeia    Alemanha               54   Feminino   \n",
            "2       A003  Oceânica   Austrália               38   Feminino   \n",
            "3       A004  Europeia    Alemanha               31  Masculino   \n",
            "4       A005  Oceânica   Austrália               31   Feminino   \n",
            "\n",
            "                                     sequencia_mtDNA  quantidade_mutacoes  \\\n",
            "0  ACATCGCCCTATCGGACGAGATCCTCCAAAACAGGTAAGTATGATG...                   12   \n",
            "1  CACCACCCTTTAGCCCCTGCCCCCACCTAGCATCTACAACAGAAAA...                   10   \n",
            "2  GGAACTTCCAGGGCCGCGCAGCTCTAGCTTGCCAGGCTTGCGCCTA...                   18   \n",
            "3  TTAACCGTTGACGAGGTGAATTACTCCGGGGCTTTACAGTGCCGGC...                   11   \n",
            "4  CGCTTAGACCGCGCCCTTCAGGTGCATATGGCTCCCTTGGTACGTC...                   18   \n",
            "\n",
            "  regiao_gene_afetado  \n",
            "0                 ND2  \n",
            "1                 ND1  \n",
            "2                COX1  \n",
            "3                COX1  \n",
            "4                ATP6  \n"
          ]
        }
      ]
    },
    {
      "cell_type": "markdown",
      "source": [
        "## 4\\. Gráficos Iniciais"
      ],
      "metadata": {
        "id": "HQeav3IWrLBl"
      }
    },
    {
      "cell_type": "markdown",
      "source": [
        "## 4.1\\. Distribuição de amostras por país\n"
      ],
      "metadata": {
        "id": "qwu4rJe20WSn"
      }
    },
    {
      "cell_type": "code",
      "source": [
        "plt.figure(figsize=(10, 5))\n",
        "sns.countplot(data=df, x='pais_origem', order=df['pais_origem'].value_counts().index)\n",
        "plt.title('Distribuição de Amostras por País')\n",
        "plt.xticks(rotation=45)\n",
        "plt.tight_layout()\n",
        "plt.show()\n"
      ],
      "metadata": {
        "colab": {
          "base_uri": "https://localhost:8080/",
          "height": 507
        },
        "id": "IRA5K_ayqSK1",
        "outputId": "46ddd5d9-598c-4b2e-d5cd-454106278539"
      },
      "execution_count": null,
      "outputs": [
        {
          "output_type": "display_data",
          "data": {
            "text/plain": [
              "<Figure size 1000x500 with 1 Axes>"
            ],
            "image/png": "[encoded data removed]"
          },
          "metadata": {}
        }
      ]
    },
    {
      "cell_type": "markdown",
      "source": [
        "## 4.1\\. Média de mutações por população\n"
      ],
      "metadata": {
        "id": "yk86vp8FrNqF"
      }
    },
    {
      "cell_type": "code",
      "source": [
        "plt.figure(figsize=(8, 5))\n",
        "sns.barplot(data=df, x='populacao', y='quantidade_mutacoes')\n",
        "plt.title('Média de Mutações por População')\n",
        "plt.xticks(rotation=30)\n",
        "plt.tight_layout()\n",
        "plt.show()\n"
      ],
      "metadata": {
        "colab": {
          "base_uri": "https://localhost:8080/",
          "height": 507
        },
        "id": "gsWChPmIqVzM",
        "outputId": "d659804d-45f5-4ccc-8da9-3959656598e9"
      },
      "execution_count": null,
      "outputs": [
        {
          "output_type": "display_data",
          "data": {
            "text/plain": [
              "<Figure size 800x500 with 1 Axes>"
            ],
            "image/png": "[encoded data removed]"
          },
          "metadata": {}
        }
      ]
    },
    {
      "cell_type": "markdown",
      "source": [
        "Esse gráfico nos permite visualizar quais populações apresentam maior número de mutações em média,fornecendo um panorama genético populacional."
      ],
      "metadata": {
        "id": "uul_802W0_iQ"
      }
    },
    {
      "cell_type": "markdown",
      "source": [
        "## 5\\. Faixas etárias e sexo\n"
      ],
      "metadata": {
        "id": "BI012FRCrPIe"
      }
    },
    {
      "cell_type": "markdown",
      "source": [
        "## 5.1\\.Criando faixas etárias\n"
      ],
      "metadata": {
        "id": "LPDvl7Bt1K0Y"
      }
    },
    {
      "cell_type": "code",
      "source": [
        "df['faixa_etaria'] = pd.cut(df['idade_individuo'], bins=[0,20,40,60,80,100], labels=['0-20','21-40','41-60','61-80','81-100'])\n"
      ],
      "metadata": {
        "id": "DQMzXkOOqZsE"
      },
      "execution_count": null,
      "outputs": []
    },
    {
      "cell_type": "markdown",
      "source": [
        "## 5.2\\.Mutações por faixa etária\n"
      ],
      "metadata": {
        "id": "Ed9exGDHrX69"
      }
    },
    {
      "cell_type": "code",
      "source": [
        "plt.figure(figsize=(8, 5))\n",
        "sns.boxplot(data=df, x='faixa_etaria', y='quantidade_mutacoes')\n",
        "plt.title('Mutações por Faixa Etária')\n",
        "plt.tight_layout()\n",
        "plt.show()\n"
      ],
      "metadata": {
        "colab": {
          "base_uri": "https://localhost:8080/",
          "height": 507
        },
        "id": "-xMqjsX_qbbM",
        "outputId": "777f53d3-b406-401b-a8a3-cbce3d4c8372"
      },
      "execution_count": null,
      "outputs": [
        {
          "output_type": "display_data",
          "data": {
            "text/plain": [
              "<Figure size 800x500 with 1 Axes>"
            ],
            "image/png": "[encoded data removed]"
          },
          "metadata": {}
        }
      ]
    },
    {
      "cell_type": "markdown",
      "source": [
        "Este gráfico mostra como as mutações variam entre diferentes faixas etárias."
      ],
      "metadata": {
        "id": "4e7Qw-D-1VUQ"
      }
    },
    {
      "cell_type": "markdown",
      "source": [
        "## 5.3\\.Média de mutações por sexo\n"
      ],
      "metadata": {
        "id": "UDaewwWurVSd"
      }
    },
    {
      "cell_type": "code",
      "source": [
        "plt.figure(figsize=(8,6))\n",
        "sns.barplot(data=df, x='sexo', y='quantidade_mutacoes', estimator='mean', ci='sd', palette='pastel')\n",
        "plt.title('Média de Mutações por Sexo')\n",
        "plt.xlabel('Sexo')\n",
        "plt.ylabel('Quantidade média de Mutações')\n",
        "plt.tight_layout()\n",
        "plt.show()\n"
      ],
      "metadata": {
        "colab": {
          "base_uri": "https://localhost:8080/",
          "height": 790
        },
        "id": "zAMCfLkLqfhU",
        "outputId": "6a4bd85d-9ab4-4cfb-80fb-30d91ce6c141"
      },
      "execution_count": null,
      "outputs": [
        {
          "output_type": "stream",
          "name": "stderr",
          "text": [
            "<ipython-input-18-3576852533>:2: FutureWarning: \n",
            "\n",
            "The `ci` parameter is deprecated. Use `errorbar='sd'` for the same effect.\n",
            "\n",
            "  sns.barplot(data=df, x='sexo', y='quantidade_mutacoes', estimator='mean', ci='sd', palette='pastel')\n",
            "<ipython-input-18-3576852533>:2: FutureWarning: \n",
            "\n",
            "Passing `palette` without assigning `hue` is deprecated and will be removed in v0.14.0. Assign the `x` variable to `hue` and set `legend=False` for the same effect.\n",
            "\n",
            "  sns.barplot(data=df, x='sexo', y='quantidade_mutacoes', estimator='mean', ci='sd', palette='pastel')\n"
          ]
        },
        {
          "output_type": "display_data",
          "data": {
            "text/plain": [
              "<Figure size 800x600 with 1 Axes>"
            ],
            "image/png": "[encoded data removed]"
          },
          "metadata": {}
        }
      ]
    },
    {
      "cell_type": "markdown",
      "source": [
        "O gráfico exibe a média de mutações por sexo, permitindo avaliar se há alguma diferença significativa entre homens e mulheres."
      ],
      "metadata": {
        "id": "C_225_Oc1hL4"
      }
    },
    {
      "cell_type": "markdown",
      "source": [
        "## 6\\. Análise Genética com BioPython\n"
      ],
      "metadata": {
        "id": "_vm62mMTrbIV"
      }
    },
    {
      "cell_type": "markdown",
      "source": [
        "## 6.1\\. GC Content\n"
      ],
      "metadata": {
        "id": "TPpN1hrNrepV"
      }
    },
    {
      "cell_type": "code",
      "source": [
        "df['gc_content'] = df['sequencia_mtDNA'].apply(lambda seq: round(gc_fraction(seq)*100, 2))\n"
      ],
      "metadata": {
        "id": "5f7eCtFNqln0"
      },
      "execution_count": null,
      "outputs": []
    },
    {
      "cell_type": "markdown",
      "source": [
        "## 6.2\\. GC Content por população\n",
        "\n",
        "\n",
        "\n"
      ],
      "metadata": {
        "id": "94sFfsMordX9"
      }
    },
    {
      "cell_type": "code",
      "source": [
        "plt.figure(figsize=(8,5))\n",
        "sns.boxplot(data=df, x='populacao', y='gc_content')\n",
        "plt.title('GC Content por População')\n",
        "plt.xticks(rotation=30)\n",
        "plt.tight_layout()\n",
        "plt.show()\n"
      ],
      "metadata": {
        "colab": {
          "base_uri": "https://localhost:8080/",
          "height": 507
        },
        "id": "Pur39xqHqnfU",
        "outputId": "8dfeff43-719e-41a8-e214-324d32bfea98"
      },
      "execution_count": null,
      "outputs": [
        {
          "output_type": "display_data",
          "data": {
            "text/plain": [
              "<Figure size 800x500 with 1 Axes>"
            ],
            "image/png": "[encoded data removed]"
          },
          "metadata": {}
        }
      ]
    },
    {
      "cell_type": "markdown",
      "source": [
        "O GC content mostra a estabilidade da sequência genética. Este gráfico compara essa métrica entre populações."
      ],
      "metadata": {
        "id": "2geVMW9O1zn_"
      }
    },
    {
      "cell_type": "markdown",
      "source": [
        "## 6.3\\. Transcrição DNA para RNA\n"
      ],
      "metadata": {
        "id": "rqHFAhnNrhwg"
      }
    },
    {
      "cell_type": "code",
      "source": [
        "df['sequencia_RNA'] = df['sequencia_mtDNA'].apply(lambda seq: str(Seq(seq).transcribe()))\n",
        "df[['sequencia_mtDNA', 'sequencia_RNA']].head()\n"
      ],
      "metadata": {
        "colab": {
          "base_uri": "https://localhost:8080/",
          "height": 206
        },
        "id": "MLzG5EwwqqEc",
        "outputId": "c2656646-1bd2-4e6b-fe0f-3f644b7de2b9"
      },
      "execution_count": null,
      "outputs": [
        {
          "output_type": "execute_result",
          "data": {
            "text/plain": [
              "                                     sequencia_mtDNA  \\\n",
              "0  ACATCGCCCTATCGGACGAGATCCTCCAAAACAGGTAAGTATGATG...   \n",
              "1  CACCACCCTTTAGCCCCTGCCCCCACCTAGCATCTACAACAGAAAA...   \n",
              "2  GGAACTTCCAGGGCCGCGCAGCTCTAGCTTGCCAGGCTTGCGCCTA...   \n",
              "3  TTAACCGTTGACGAGGTGAATTACTCCGGGGCTTTACAGTGCCGGC...   \n",
              "4  CGCTTAGACCGCGCCCTTCAGGTGCATATGGCTCCCTTGGTACGTC...   \n",
              "\n",
              "                                       sequencia_RNA  \n",
              "0  ACAUCGCCCUAUCGGACGAGAUCCUCCAAAACAGGUAAGUAUGAUG...  \n",
              "1  CACCACCCUUUAGCCCCUGCCCCCACCUAGCAUCUACAACAGAAAA...  \n",
              "2  GGAACUUCCAGGGCCGCGCAGCUCUAGCUUGCCAGGCUUGCGCCUA...  \n",
              "3  UUAACCGUUGACGAGGUGAAUUACUCCGGGGCUUUACAGUGCCGGC...  \n",
              "4  CGCUUAGACCGCGCCCUUCAGGUGCAUAUGGCUCCCUUGGUACGUC...  "
            ],
            "text/html": [
              "\n",
              "  <div id=\"df-ce190747-a315-426f-988c-cb47cf9c213a\" class=\"colab-df-container\">\n",
              "    <div>\n",
              "<style scoped>\n",
              "    .dataframe tbody tr th:only-of-type {\n",
              "        vertical-align: middle;\n",
              "    }\n",
              "\n",
              "    .dataframe tbody tr th {\n",
              "        vertical-align: top;\n",
              "    }\n",
              "\n",
              "    .dataframe thead th {\n",
              "        text-align: right;\n",
              "    }\n",
              "</style>\n",
              "<table border=\"1\" class=\"dataframe\">\n",
              "  <thead>\n",
              "    <tr style=\"text-align: right;\">\n",
              "      <th></th>\n",
              "      <th>sequencia_mtDNA</th>\n",
              "      <th>sequencia_RNA</th>\n",
              "    </tr>\n",
              "  </thead>\n",
              "  <tbody>\n",
              "    <tr>\n",
              "      <th>0</th>\n",
              "      <td>ACATCGCCCTATCGGACGAGATCCTCCAAAACAGGTAAGTATGATG...</td>\n",
              "      <td>ACAUCGCCCUAUCGGACGAGAUCCUCCAAAACAGGUAAGUAUGAUG...</td>\n",
              "    </tr>\n",
              "    <tr>\n",
              "      <th>1</th>\n",
              "      <td>CACCACCCTTTAGCCCCTGCCCCCACCTAGCATCTACAACAGAAAA...</td>\n",
              "      <td>CACCACCCUUUAGCCCCUGCCCCCACCUAGCAUCUACAACAGAAAA...</td>\n",
              "    </tr>\n",
              "    <tr>\n",
              "      <th>2</th>\n",
              "      <td>GGAACTTCCAGGGCCGCGCAGCTCTAGCTTGCCAGGCTTGCGCCTA...</td>\n",
              "      <td>GGAACUUCCAGGGCCGCGCAGCUCUAGCUUGCCAGGCUUGCGCCUA...</td>\n",
              "    </tr>\n",
              "    <tr>\n",
              "      <th>3</th>\n",
              "      <td>TTAACCGTTGACGAGGTGAATTACTCCGGGGCTTTACAGTGCCGGC...</td>\n",
              "      <td>UUAACCGUUGACGAGGUGAAUUACUCCGGGGCUUUACAGUGCCGGC...</td>\n",
              "    </tr>\n",
              "    <tr>\n",
              "      <th>4</th>\n",
              "      <td>CGCTTAGACCGCGCCCTTCAGGTGCATATGGCTCCCTTGGTACGTC...</td>\n",
              "      <td>CGCUUAGACCGCGCCCUUCAGGUGCAUAUGGCUCCCUUGGUACGUC...</td>\n",
              "    </tr>\n",
              "  </tbody>\n",
              "</table>\n",
              "</div>\n",
              "    <div class=\"colab-df-buttons\">\n",
              "\n",
              "  <div class=\"colab-df-container\">\n",
              "    <button class=\"colab-df-convert\" onclick=\"convertToInteractive('df-ce190747-a315-426f-988c-cb47cf9c213a')\"\n",
              "            title=\"Convert this dataframe to an interactive table.\"\n",
              "            style=\"display:none;\">\n",
              "\n",
              "  <svg xmlns=\"http://www.w3.org/2000/svg\" height=\"24px\" viewBox=\"0 -960 960 960\">\n",
              "    <path d=\"M120-120v-720h720v720H120Zm60-500h600v-160H180v160Zm220 220h160v-160H400v160Zm0 220h160v-160H400v160ZM180-400h160v-160H180v160Zm440 0h160v-160H620v160ZM180-180h160v-160H180v160Zm440 0h160v-160H620v160Z\"/>\n",
              "  </svg>\n",
              "    </button>\n",
              "\n",
              "  <style>\n",
              "    .colab-df-container {\n",
              "      display:flex;\n",
              "      gap: 12px;\n",
              "    }\n",
              "\n",
              "    .colab-df-convert {\n",
              "      background-color: #E8F0FE;\n",
              "      border: none;\n",
              "      border-radius: 50%;\n",
              "      cursor: pointer;\n",
              "      display: none;\n",
              "      fill: #1967D2;\n",
              "      height: 32px;\n",
              "      padding: 0 0 0 0;\n",
              "      width: 32px;\n",
              "    }\n",
              "\n",
              "    .colab-df-convert:hover {\n",
              "      background-color: #E2EBFA;\n",
              "      box-shadow: 0px 1px 2px rgba(60, 64, 67, 0.3), 0px 1px 3px 1px rgba(60, 64, 67, 0.15);\n",
              "      fill: #174EA6;\n",
              "    }\n",
              "\n",
              "    .colab-df-buttons div {\n",
              "      margin-bottom: 4px;\n",
              "    }\n",
              "\n",
              "    [theme=dark] .colab-df-convert {\n",
              "      background-color: #3B4455;\n",
              "      fill: #D2E3FC;\n",
              "    }\n",
              "\n",
              "    [theme=dark] .colab-df-convert:hover {\n",
              "      background-color: #434B5C;\n",
              "      box-shadow: 0px 1px 3px 1px rgba(0, 0, 0, 0.15);\n",
              "      filter: drop-shadow(0px 1px 2px rgba(0, 0, 0, 0.3));\n",
              "      fill: #FFFFFF;\n",
              "    }\n",
              "  </style>\n",
              "\n",
              "    <script>\n",
              "      const buttonEl =\n",
              "        document.querySelector('#df-ce190747-a315-426f-988c-cb47cf9c213a button.colab-df-convert');\n",
              "      buttonEl.style.display =\n",
              "        google.colab.kernel.accessAllowed ? 'block' : 'none';\n",
              "\n",
              "      async function convertToInteractive(key) {\n",
              "        const element = document.querySelector('#df-ce190747-a315-426f-988c-cb47cf9c213a');\n",
              "        const dataTable =\n",
              "          await google.colab.kernel.invokeFunction('convertToInteractive',\n",
              "                                                    [key], {});\n",
              "        if (!dataTable) return;\n",
              "\n",
              "        const docLinkHtml = 'Like what you see? Visit the ' +\n",
              "          '<a target=\"_blank\" href=https://colab.research.google.com/notebooks/data_table.ipynb>data table notebook</a>'\n",
              "          + ' to learn more about interactive tables.';\n",
              "        element.innerHTML = '';\n",
              "        dataTable['output_type'] = 'display_data';\n",
              "        await google.colab.output.renderOutput(dataTable, element);\n",
              "        const docLink = document.createElement('div');\n",
              "        docLink.innerHTML = docLinkHtml;\n",
              "        element.appendChild(docLink);\n",
              "      }\n",
              "    </script>\n",
              "  </div>\n",
              "\n",
              "\n",
              "    <div id=\"df-81dff786-fb7b-40a5-8e61-52f75f70f1c5\">\n",
              "      <button class=\"colab-df-quickchart\" onclick=\"quickchart('df-81dff786-fb7b-40a5-8e61-52f75f70f1c5')\"\n",
              "                title=\"Suggest charts\"\n",
              "                style=\"display:none;\">\n",
              "\n",
              "<svg xmlns=\"http://www.w3.org/2000/svg\" height=\"24px\"viewBox=\"0 0 24 24\"\n",
              "     width=\"24px\">\n",
              "    <g>\n",
              "        <path d=\"M19 3H5c-1.1 0-2 .9-2 2v14c0 1.1.9 2 2 2h14c1.1 0 2-.9 2-2V5c0-1.1-.9-2-2-2zM9 17H7v-7h2v7zm4 0h-2V7h2v10zm4 0h-2v-4h2v4z\"/>\n",
              "    </g>\n",
              "</svg>\n",
              "      </button>\n",
              "\n",
              "<style>\n",
              "  .colab-df-quickchart {\n",
              "      --bg-color: #E8F0FE;\n",
              "      --fill-color: #1967D2;\n",
              "      --hover-bg-color: #E2EBFA;\n",
              "      --hover-fill-color: #174EA6;\n",
              "      --disabled-fill-color: #AAA;\n",
              "      --disabled-bg-color: #DDD;\n",
              "  }\n",
              "\n",
              "  [theme=dark] .colab-df-quickchart {\n",
              "      --bg-color: #3B4455;\n",
              "      --fill-color: #D2E3FC;\n",
              "      --hover-bg-color: #434B5C;\n",
              "      --hover-fill-color: #FFFFFF;\n",
              "      --disabled-bg-color: #3B4455;\n",
              "      --disabled-fill-color: #666;\n",
              "  }\n",
              "\n",
              "  .colab-df-quickchart {\n",
              "    background-color: var(--bg-color);\n",
              "    border: none;\n",
              "    border-radius: 50%;\n",
              "    cursor: pointer;\n",
              "    display: none;\n",
              "    fill: var(--fill-color);\n",
              "    height: 32px;\n",
              "    padding: 0;\n",
              "    width: 32px;\n",
              "  }\n",
              "\n",
              "  .colab-df-quickchart:hover {\n",
              "    background-color: var(--hover-bg-color);\n",
              "    box-shadow: 0 1px 2px rgba(60, 64, 67, 0.3), 0 1px 3px 1px rgba(60, 64, 67, 0.15);\n",
              "    fill: var(--button-hover-fill-color);\n",
              "  }\n",
              "\n",
              "  .colab-df-quickchart-complete:disabled,\n",
              "  .colab-df-quickchart-complete:disabled:hover {\n",
              "    background-color: var(--disabled-bg-color);\n",
              "    fill: var(--disabled-fill-color);\n",
              "    box-shadow: none;\n",
              "  }\n",
              "\n",
              "  .colab-df-spinner {\n",
              "    border: 2px solid var(--fill-color);\n",
              "    border-color: transparent;\n",
              "    border-bottom-color: var(--fill-color);\n",
              "    animation:\n",
              "      spin 1s steps(1) infinite;\n",
              "  }\n",
              "\n",
              "  @keyframes spin {\n",
              "    0% {\n",
              "      border-color: transparent;\n",
              "      border-bottom-color: var(--fill-color);\n",
              "      border-left-color: var(--fill-color);\n",
              "    }\n",
              "    20% {\n",
              "      border-color: transparent;\n",
              "      border-left-color: var(--fill-color);\n",
              "      border-top-color: var(--fill-color);\n",
              "    }\n",
              "    30% {\n",
              "      border-color: transparent;\n",
              "      border-left-color: var(--fill-color);\n",
              "      border-top-color: var(--fill-color);\n",
              "      border-right-color: var(--fill-color);\n",
              "    }\n",
              "    40% {\n",
              "      border-color: transparent;\n",
              "      border-right-color: var(--fill-color);\n",
              "      border-top-color: var(--fill-color);\n",
              "    }\n",
              "    60% {\n",
              "      border-color: transparent;\n",
              "      border-right-color: var(--fill-color);\n",
              "    }\n",
              "    80% {\n",
              "      border-color: transparent;\n",
              "      border-right-color: var(--fill-color);\n",
              "      border-bottom-color: var(--fill-color);\n",
              "    }\n",
              "    90% {\n",
              "      border-color: transparent;\n",
              "      border-bottom-color: var(--fill-color);\n",
              "    }\n",
              "  }\n",
              "</style>\n",
              "\n",
              "      <script>\n",
              "        async function quickchart(key) {\n",
              "          const quickchartButtonEl =\n",
              "            document.querySelector('#' + key + ' button');\n",
              "          quickchartButtonEl.disabled = true;  // To prevent multiple clicks.\n",
              "          quickchartButtonEl.classList.add('colab-df-spinner');\n",
              "          try {\n",
              "            const charts = await google.colab.kernel.invokeFunction(\n",
              "                'suggestCharts', [key], {});\n",
              "          } catch (error) {\n",
              "            console.error('Error during call to suggestCharts:', error);\n",
              "          }\n",
              "          quickchartButtonEl.classList.remove('colab-df-spinner');\n",
              "          quickchartButtonEl.classList.add('colab-df-quickchart-complete');\n",
              "        }\n",
              "        (() => {\n",
              "          let quickchartButtonEl =\n",
              "            document.querySelector('#df-81dff786-fb7b-40a5-8e61-52f75f70f1c5 button');\n",
              "          quickchartButtonEl.style.display =\n",
              "            google.colab.kernel.accessAllowed ? 'block' : 'none';\n",
              "        })();\n",
              "      </script>\n",
              "    </div>\n",
              "\n",
              "    </div>\n",
              "  </div>\n"
            ],
            "application/vnd.google.colaboratory.intrinsic+json": {
              "type": "dataframe",
              "summary": "{\n  \"name\": \"df[['sequencia_mtDNA', 'sequencia_RNA']]\",\n  \"rows\": 5,\n  \"fields\": [\n    {\n      \"column\": \"sequencia_mtDNA\",\n      \"properties\": {\n        \"dtype\": \"string\",\n        \"num_unique_values\": 5,\n        \"samples\": [\n          \"CACCACCCTTTAGCCCCTGCCCCCACCTAGCATCTACAACAGAAAACTTTAACGTCAATCTAACGCCTGGCTTAGAGCCGACAAAGAAGACGAGTGAGTGGCATGTGTCC\",\n          \"CGCTTAGACCGCGCCCTTCAGGTGCATATGGCTCCCTTGGTACGTCCGGCTGTTACAATTAGAGAGCTCCTCCTACCCATAAAGAATGCCCAATGATCCGTACTCTCACCCGTCTCC\",\n          \"GGAACTTCCAGGGCCGCGCAGCTCTAGCTTGCCAGGCTTGCGCCTACCAAAACATGGCCATGTGCGAGACCGAATGAACCACTCAAAATCGTTTTTCGGTTGTGTCGG\"\n        ],\n        \"semantic_type\": \"\",\n        \"description\": \"\"\n      }\n    },\n    {\n      \"column\": \"sequencia_RNA\",\n      \"properties\": {\n        \"dtype\": \"string\",\n        \"num_unique_values\": 5,\n        \"samples\": [\n          \"CACCACCCUUUAGCCCCUGCCCCCACCUAGCAUCUACAACAGAAAACUUUAACGUCAAUCUAACGCCUGGCUUAGAGCCGACAAAGAAGACGAGUGAGUGGCAUGUGUCC\",\n          \"CGCUUAGACCGCGCCCUUCAGGUGCAUAUGGCUCCCUUGGUACGUCCGGCUGUUACAAUUAGAGAGCUCCUCCUACCCAUAAAGAAUGCCCAAUGAUCCGUACUCUCACCCGUCUCC\",\n          \"GGAACUUCCAGGGCCGCGCAGCUCUAGCUUGCCAGGCUUGCGCCUACCAAAACAUGGCCAUGUGCGAGACCGAAUGAACCACUCAAAAUCGUUUUUCGGUUGUGUCGG\"\n        ],\n        \"semantic_type\": \"\",\n        \"description\": \"\"\n      }\n    }\n  ]\n}"
            }
          },
          "metadata": {},
          "execution_count": 11
        }
      ]
    },
    {
      "cell_type": "markdown",
      "source": [
        "## 6.4\\. Tradução para proteína\n"
      ],
      "metadata": {
        "id": "6L_tHPC-rmDd"
      }
    },
    {
      "cell_type": "code",
      "source": [
        "def traduzir_proteina(seq):\n",
        "    try:\n",
        "        return str(Seq(seq).translate(to_stop=True))\n",
        "    except:\n",
        "        return None\n",
        "\n",
        "df['proteina'] = df['sequencia_mtDNA'].apply(traduzir_proteina)\n",
        "df[['sequencia_mtDNA', 'proteina']].head()\n"
      ],
      "metadata": {
        "colab": {
          "base_uri": "https://localhost:8080/",
          "height": 242
        },
        "id": "Naddi2OSqs_0",
        "outputId": "5eaa12d5-3a69-4bc8-d133-584527d3322e"
      },
      "execution_count": null,
      "outputs": [
        {
          "output_type": "stream",
          "name": "stderr",
          "text": [
            "/usr/local/lib/python3.11/dist-packages/Bio/Seq.py:2879: BiopythonWarning: Partial codon, len(sequence) not a multiple of three. Explicitly trim the sequence or add trailing N before translation. This may become an error in future.\n",
            "  warnings.warn(\n"
          ]
        },
        {
          "output_type": "execute_result",
          "data": {
            "text/plain": [
              "                                     sequencia_mtDNA  \\\n",
              "0  ACATCGCCCTATCGGACGAGATCCTCCAAAACAGGTAAGTATGATG...   \n",
              "1  CACCACCCTTTAGCCCCTGCCCCCACCTAGCATCTACAACAGAAAA...   \n",
              "2  GGAACTTCCAGGGCCGCGCAGCTCTAGCTTGCCAGGCTTGCGCCTA...   \n",
              "3  TTAACCGTTGACGAGGTGAATTACTCCGGGGCTTTACAGTGCCGGC...   \n",
              "4  CGCTTAGACCGCGCCCTTCAGGTGCATATGGCTCCCTTGGTACGTC...   \n",
              "\n",
              "                          proteina  \n",
              "0    TSPYRTRSSKTGKYDAGQGLQKAPLMQMC  \n",
              "1                        HHPLAPAPT  \n",
              "2                         GTSRAAQL  \n",
              "3      LTVDEVNYSGALQCRHASPDKQASDPR  \n",
              "4  RLDRALQVHMAPLVRPAVTIRELLLPIKNAQ  "
            ],
            "text/html": [
              "\n",
              "  <div id=\"df-3c8b5f0a-5d2b-475d-880f-42e4239c16a1\" class=\"colab-df-container\">\n",
              "    <div>\n",
              "<style scoped>\n",
              "    .dataframe tbody tr th:only-of-type {\n",
              "        vertical-align: middle;\n",
              "    }\n",
              "\n",
              "    .dataframe tbody tr th {\n",
              "        vertical-align: top;\n",
              "    }\n",
              "\n",
              "    .dataframe thead th {\n",
              "        text-align: right;\n",
              "    }\n",
              "</style>\n",
              "<table border=\"1\" class=\"dataframe\">\n",
              "  <thead>\n",
              "    <tr style=\"text-align: right;\">\n",
              "      <th></th>\n",
              "      <th>sequencia_mtDNA</th>\n",
              "      <th>proteina</th>\n",
              "    </tr>\n",
              "  </thead>\n",
              "  <tbody>\n",
              "    <tr>\n",
              "      <th>0</th>\n",
              "      <td>ACATCGCCCTATCGGACGAGATCCTCCAAAACAGGTAAGTATGATG...</td>\n",
              "      <td>TSPYRTRSSKTGKYDAGQGLQKAPLMQMC</td>\n",
              "    </tr>\n",
              "    <tr>\n",
              "      <th>1</th>\n",
              "      <td>CACCACCCTTTAGCCCCTGCCCCCACCTAGCATCTACAACAGAAAA...</td>\n",
              "      <td>HHPLAPAPT</td>\n",
              "    </tr>\n",
              "    <tr>\n",
              "      <th>2</th>\n",
              "      <td>GGAACTTCCAGGGCCGCGCAGCTCTAGCTTGCCAGGCTTGCGCCTA...</td>\n",
              "      <td>GTSRAAQL</td>\n",
              "    </tr>\n",
              "    <tr>\n",
              "      <th>3</th>\n",
              "      <td>TTAACCGTTGACGAGGTGAATTACTCCGGGGCTTTACAGTGCCGGC...</td>\n",
              "      <td>LTVDEVNYSGALQCRHASPDKQASDPR</td>\n",
              "    </tr>\n",
              "    <tr>\n",
              "      <th>4</th>\n",
              "      <td>CGCTTAGACCGCGCCCTTCAGGTGCATATGGCTCCCTTGGTACGTC...</td>\n",
              "      <td>RLDRALQVHMAPLVRPAVTIRELLLPIKNAQ</td>\n",
              "    </tr>\n",
              "  </tbody>\n",
              "</table>\n",
              "</div>\n",
              "    <div class=\"colab-df-buttons\">\n",
              "\n",
              "  <div class=\"colab-df-container\">\n",
              "    <button class=\"colab-df-convert\" onclick=\"convertToInteractive('df-3c8b5f0a-5d2b-475d-880f-42e4239c16a1')\"\n",
              "            title=\"Convert this dataframe to an interactive table.\"\n",
              "            style=\"display:none;\">\n",
              "\n",
              "  <svg xmlns=\"http://www.w3.org/2000/svg\" height=\"24px\" viewBox=\"0 -960 960 960\">\n",
              "    <path d=\"M120-120v-720h720v720H120Zm60-500h600v-160H180v160Zm220 220h160v-160H400v160Zm0 220h160v-160H400v160ZM180-400h160v-160H180v160Zm440 0h160v-160H620v160ZM180-180h160v-160H180v160Zm440 0h160v-160H620v160Z\"/>\n",
              "  </svg>\n",
              "    </button>\n",
              "\n",
              "  <style>\n",
              "    .colab-df-container {\n",
              "      display:flex;\n",
              "      gap: 12px;\n",
              "    }\n",
              "\n",
              "    .colab-df-convert {\n",
              "      background-color: #E8F0FE;\n",
              "      border: none;\n",
              "      border-radius: 50%;\n",
              "      cursor: pointer;\n",
              "      display: none;\n",
              "      fill: #1967D2;\n",
              "      height: 32px;\n",
              "      padding: 0 0 0 0;\n",
              "      width: 32px;\n",
              "    }\n",
              "\n",
              "    .colab-df-convert:hover {\n",
              "      background-color: #E2EBFA;\n",
              "      box-shadow: 0px 1px 2px rgba(60, 64, 67, 0.3), 0px 1px 3px 1px rgba(60, 64, 67, 0.15);\n",
              "      fill: #174EA6;\n",
              "    }\n",
              "\n",
              "    .colab-df-buttons div {\n",
              "      margin-bottom: 4px;\n",
              "    }\n",
              "\n",
              "    [theme=dark] .colab-df-convert {\n",
              "      background-color: #3B4455;\n",
              "      fill: #D2E3FC;\n",
              "    }\n",
              "\n",
              "    [theme=dark] .colab-df-convert:hover {\n",
              "      background-color: #434B5C;\n",
              "      box-shadow: 0px 1px 3px 1px rgba(0, 0, 0, 0.15);\n",
              "      filter: drop-shadow(0px 1px 2px rgba(0, 0, 0, 0.3));\n",
              "      fill: #FFFFFF;\n",
              "    }\n",
              "  </style>\n",
              "\n",
              "    <script>\n",
              "      const buttonEl =\n",
              "        document.querySelector('#df-3c8b5f0a-5d2b-475d-880f-42e4239c16a1 button.colab-df-convert');\n",
              "      buttonEl.style.display =\n",
              "        google.colab.kernel.accessAllowed ? 'block' : 'none';\n",
              "\n",
              "      async function convertToInteractive(key) {\n",
              "        const element = document.querySelector('#df-3c8b5f0a-5d2b-475d-880f-42e4239c16a1');\n",
              "        const dataTable =\n",
              "          await google.colab.kernel.invokeFunction('convertToInteractive',\n",
              "                                                    [key], {});\n",
              "        if (!dataTable) return;\n",
              "\n",
              "        const docLinkHtml = 'Like what you see? Visit the ' +\n",
              "          '<a target=\"_blank\" href=https://colab.research.google.com/notebooks/data_table.ipynb>data table notebook</a>'\n",
              "          + ' to learn more about interactive tables.';\n",
              "        element.innerHTML = '';\n",
              "        dataTable['output_type'] = 'display_data';\n",
              "        await google.colab.output.renderOutput(dataTable, element);\n",
              "        const docLink = document.createElement('div');\n",
              "        docLink.innerHTML = docLinkHtml;\n",
              "        element.appendChild(docLink);\n",
              "      }\n",
              "    </script>\n",
              "  </div>\n",
              "\n",
              "\n",
              "    <div id=\"df-e0e92745-e5a6-4b3c-a6b0-4a18f9ea2c3d\">\n",
              "      <button class=\"colab-df-quickchart\" onclick=\"quickchart('df-e0e92745-e5a6-4b3c-a6b0-4a18f9ea2c3d')\"\n",
              "                title=\"Suggest charts\"\n",
              "                style=\"display:none;\">\n",
              "\n",
              "<svg xmlns=\"http://www.w3.org/2000/svg\" height=\"24px\"viewBox=\"0 0 24 24\"\n",
              "     width=\"24px\">\n",
              "    <g>\n",
              "        <path d=\"M19 3H5c-1.1 0-2 .9-2 2v14c0 1.1.9 2 2 2h14c1.1 0 2-.9 2-2V5c0-1.1-.9-2-2-2zM9 17H7v-7h2v7zm4 0h-2V7h2v10zm4 0h-2v-4h2v4z\"/>\n",
              "    </g>\n",
              "</svg>\n",
              "      </button>\n",
              "\n",
              "<style>\n",
              "  .colab-df-quickchart {\n",
              "      --bg-color: #E8F0FE;\n",
              "      --fill-color: #1967D2;\n",
              "      --hover-bg-color: #E2EBFA;\n",
              "      --hover-fill-color: #174EA6;\n",
              "      --disabled-fill-color: #AAA;\n",
              "      --disabled-bg-color: #DDD;\n",
              "  }\n",
              "\n",
              "  [theme=dark] .colab-df-quickchart {\n",
              "      --bg-color: #3B4455;\n",
              "      --fill-color: #D2E3FC;\n",
              "      --hover-bg-color: #434B5C;\n",
              "      --hover-fill-color: #FFFFFF;\n",
              "      --disabled-bg-color: #3B4455;\n",
              "      --disabled-fill-color: #666;\n",
              "  }\n",
              "\n",
              "  .colab-df-quickchart {\n",
              "    background-color: var(--bg-color);\n",
              "    border: none;\n",
              "    border-radius: 50%;\n",
              "    cursor: pointer;\n",
              "    display: none;\n",
              "    fill: var(--fill-color);\n",
              "    height: 32px;\n",
              "    padding: 0;\n",
              "    width: 32px;\n",
              "  }\n",
              "\n",
              "  .colab-df-quickchart:hover {\n",
              "    background-color: var(--hover-bg-color);\n",
              "    box-shadow: 0 1px 2px rgba(60, 64, 67, 0.3), 0 1px 3px 1px rgba(60, 64, 67, 0.15);\n",
              "    fill: var(--button-hover-fill-color);\n",
              "  }\n",
              "\n",
              "  .colab-df-quickchart-complete:disabled,\n",
              "  .colab-df-quickchart-complete:disabled:hover {\n",
              "    background-color: var(--disabled-bg-color);\n",
              "    fill: var(--disabled-fill-color);\n",
              "    box-shadow: none;\n",
              "  }\n",
              "\n",
              "  .colab-df-spinner {\n",
              "    border: 2px solid var(--fill-color);\n",
              "    border-color: transparent;\n",
              "    border-bottom-color: var(--fill-color);\n",
              "    animation:\n",
              "      spin 1s steps(1) infinite;\n",
              "  }\n",
              "\n",
              "  @keyframes spin {\n",
              "    0% {\n",
              "      border-color: transparent;\n",
              "      border-bottom-color: var(--fill-color);\n",
              "      border-left-color: var(--fill-color);\n",
              "    }\n",
              "    20% {\n",
              "      border-color: transparent;\n",
              "      border-left-color: var(--fill-color);\n",
              "      border-top-color: var(--fill-color);\n",
              "    }\n",
              "    30% {\n",
              "      border-color: transparent;\n",
              "      border-left-color: var(--fill-color);\n",
              "      border-top-color: var(--fill-color);\n",
              "      border-right-color: var(--fill-color);\n",
              "    }\n",
              "    40% {\n",
              "      border-color: transparent;\n",
              "      border-right-color: var(--fill-color);\n",
              "      border-top-color: var(--fill-color);\n",
              "    }\n",
              "    60% {\n",
              "      border-color: transparent;\n",
              "      border-right-color: var(--fill-color);\n",
              "    }\n",
              "    80% {\n",
              "      border-color: transparent;\n",
              "      border-right-color: var(--fill-color);\n",
              "      border-bottom-color: var(--fill-color);\n",
              "    }\n",
              "    90% {\n",
              "      border-color: transparent;\n",
              "      border-bottom-color: var(--fill-color);\n",
              "    }\n",
              "  }\n",
              "</style>\n",
              "\n",
              "      <script>\n",
              "        async function quickchart(key) {\n",
              "          const quickchartButtonEl =\n",
              "            document.querySelector('#' + key + ' button');\n",
              "          quickchartButtonEl.disabled = true;  // To prevent multiple clicks.\n",
              "          quickchartButtonEl.classList.add('colab-df-spinner');\n",
              "          try {\n",
              "            const charts = await google.colab.kernel.invokeFunction(\n",
              "                'suggestCharts', [key], {});\n",
              "          } catch (error) {\n",
              "            console.error('Error during call to suggestCharts:', error);\n",
              "          }\n",
              "          quickchartButtonEl.classList.remove('colab-df-spinner');\n",
              "          quickchartButtonEl.classList.add('colab-df-quickchart-complete');\n",
              "        }\n",
              "        (() => {\n",
              "          let quickchartButtonEl =\n",
              "            document.querySelector('#df-e0e92745-e5a6-4b3c-a6b0-4a18f9ea2c3d button');\n",
              "          quickchartButtonEl.style.display =\n",
              "            google.colab.kernel.accessAllowed ? 'block' : 'none';\n",
              "        })();\n",
              "      </script>\n",
              "    </div>\n",
              "\n",
              "    </div>\n",
              "  </div>\n"
            ],
            "application/vnd.google.colaboratory.intrinsic+json": {
              "type": "dataframe",
              "summary": "{\n  \"name\": \"df[['sequencia_mtDNA', 'proteina']]\",\n  \"rows\": 5,\n  \"fields\": [\n    {\n      \"column\": \"sequencia_mtDNA\",\n      \"properties\": {\n        \"dtype\": \"string\",\n        \"num_unique_values\": 5,\n        \"samples\": [\n          \"CACCACCCTTTAGCCCCTGCCCCCACCTAGCATCTACAACAGAAAACTTTAACGTCAATCTAACGCCTGGCTTAGAGCCGACAAAGAAGACGAGTGAGTGGCATGTGTCC\",\n          \"CGCTTAGACCGCGCCCTTCAGGTGCATATGGCTCCCTTGGTACGTCCGGCTGTTACAATTAGAGAGCTCCTCCTACCCATAAAGAATGCCCAATGATCCGTACTCTCACCCGTCTCC\",\n          \"GGAACTTCCAGGGCCGCGCAGCTCTAGCTTGCCAGGCTTGCGCCTACCAAAACATGGCCATGTGCGAGACCGAATGAACCACTCAAAATCGTTTTTCGGTTGTGTCGG\"\n        ],\n        \"semantic_type\": \"\",\n        \"description\": \"\"\n      }\n    },\n    {\n      \"column\": \"proteina\",\n      \"properties\": {\n        \"dtype\": \"string\",\n        \"num_unique_values\": 5,\n        \"samples\": [\n          \"HHPLAPAPT\",\n          \"RLDRALQVHMAPLVRPAVTIRELLLPIKNAQ\",\n          \"GTSRAAQL\"\n        ],\n        \"semantic_type\": \"\",\n        \"description\": \"\"\n      }\n    }\n  ]\n}"
            }
          },
          "metadata": {},
          "execution_count": 12
        }
      ]
    },
    {
      "cell_type": "markdown",
      "source": [
        "As funções de transcrição e tradução mostram como a informação genética pode ser convertida em proteínas."
      ],
      "metadata": {
        "id": "gKDmaM1I2ngP"
      }
    },
    {
      "cell_type": "markdown",
      "source": [
        "## 7\\. Correlação entre tamanho da sequência e mutações\n"
      ],
      "metadata": {
        "id": "fc6qXxHMroI9"
      }
    },
    {
      "cell_type": "code",
      "source": [
        "df['tamanho_sequencia'] = df['sequencia_mtDNA'].apply(len)\n"
      ],
      "metadata": {
        "id": "Y-YCIXJ4qvs8"
      },
      "execution_count": null,
      "outputs": []
    },
    {
      "cell_type": "markdown",
      "source": [
        "## 7\\. Tamanho da sequência vs mutações\n"
      ],
      "metadata": {
        "id": "PEENwklOrqEN"
      }
    },
    {
      "cell_type": "code",
      "source": [
        "plt.figure(figsize=(8,5))\n",
        "sns.scatterplot(data=df, x='tamanho_sequencia', y='quantidade_mutacoes', hue='populacao')\n",
        "plt.title('Tamanho da Sequência vs Número de Mutações')\n",
        "plt.tight_layout()\n",
        "plt.show()\n"
      ],
      "metadata": {
        "colab": {
          "base_uri": "https://localhost:8080/",
          "height": 507
        },
        "id": "LdVaQeXdqw98",
        "outputId": "b0e1e67c-7f11-4fce-ba69-07f3dc5f96ba"
      },
      "execution_count": null,
      "outputs": [
        {
          "output_type": "display_data",
          "data": {
            "text/plain": [
              "<Figure size 800x500 with 1 Axes>"
            ],
            "image/png": "[encoded data removed]"
          },
          "metadata": {}
        }
      ]
    },
    {
      "cell_type": "markdown",
      "source": [
        "Este gráfico explora se existe uma relação entre o comprimento da sequência e o número de mutações."
      ],
      "metadata": {
        "id": "CvQTxFuR22zA"
      }
    },
    {
      "cell_type": "markdown",
      "source": [
        "* Exportar análise final para Power BI ou Excel\n",
        "\n",
        "\n",
        "\n",
        "\n",
        "\n"
      ],
      "metadata": {
        "id": "w8O83f1125UZ"
      }
    },
    {
      "cell_type": "code",
      "source": [
        "df.to_csv(\"dna_analise_completa.csv\", index=False)\n"
      ],
      "metadata": {
        "id": "f3DPX10iqzp0"
      },
      "execution_count": null,
      "outputs": []
    },
    {
      "cell_type": "markdown",
      "source": [
        "# **CONCLUSÃO**\n",
        "\n",
        "Este projeto demonstrou como a biologia e a ciência de dados podem se complementar de forma poderosa.\n",
        "A partir da simulação e análise de 200 amostras de DNA mitocondrial, foi possível:\n",
        "* Visualizar mutações por população, sexo e faixa etária;\n",
        "* Calcular a composição GC, que está associada à estabilidade genética;\n",
        "* Aplicar técnicas de bioinformática como transcrição e tradução de sequências genéticas;\n",
        "* Identificar correlações entre características genéticas, como tamanho da sequência e número de mutações.\n",
        "\n",
        "# **Insights observados**\n",
        "* A população Oceânica apresentou a maior média de mutações.\n",
        "* Indivíduos na faixa etária de 41 a 60 anos concentraram mais mutações.\n",
        "* O conteúdo GC variou entre populações, sugerindo padrões genéticos distintos.\n",
        "* Não houve diferença significativa entre sexos em relação à quantidade média de mutações.\n",
        "* Sequências mais longas apresentaram tendência a carregar mais mutações."
      ],
      "metadata": {
        "id": "jHMwzxzm3zdR"
      }
    }
  ]
}